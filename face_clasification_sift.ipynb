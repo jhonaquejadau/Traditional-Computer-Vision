{
  "cells": [
    {
      "cell_type": "markdown",
      "metadata": {
        "id": "nMgMaaQBXI0s"
      },
      "source": [
        "**Welcome to implementationn of the sift-method**\n",
        "\n",
        "We need to install a corresponding version because the algorithm is patented. "
      ]
    },
    {
      "cell_type": "code",
      "execution_count": 1,
      "metadata": {
        "colab": {
          "base_uri": "https://localhost:8080/"
        },
        "id": "LMk7aRAPfrML",
        "outputId": "c095b7bf-0de2-404c-e845-fbe930842ee7"
      },
      "outputs": [
        {
          "name": "stdout",
          "output_type": "stream",
          "text": [
            "Requirement already satisfied: opencv-contrib-python==4.4.0.44 in /home/jaqu/.local/lib/python3.8/site-packages (4.4.0.44)\n",
            "Requirement already satisfied: numpy>=1.17.3 in /home/jaqu/.local/lib/python3.8/site-packages (from opencv-contrib-python==4.4.0.44) (1.21.4)\n"
          ]
        }
      ],
      "source": [
        "!pip install opencv-contrib-python==4.4.0.44"
      ]
    },
    {
      "cell_type": "markdown",
      "metadata": {},
      "source": [
        "**Import libraries**"
      ]
    },
    {
      "cell_type": "code",
      "execution_count": 48,
      "metadata": {},
      "outputs": [
        {
          "name": "stdout",
          "output_type": "stream",
          "text": [
            "4.4.0\n"
          ]
        }
      ],
      "source": [
        "import cv2\n",
        "print(cv2.__version__)"
      ]
    },
    {
      "cell_type": "code",
      "execution_count": 49,
      "metadata": {
        "id": "zs7FNCgJonPx"
      },
      "outputs": [],
      "source": [
        "import os\n",
        "import numpy as np \n",
        "import pandas as pd\n",
        "import matplotlib.pyplot as plt\n",
        "import seaborn as sns\n",
        "\n",
        "from tensorflow.keras.activations import linear, sigmoid, tanh, relu\n",
        "\n",
        "from sklearn.cluster import KMeans\n",
        "from sklearn.preprocessing import StandardScaler, MinMaxScaler\n",
        "from sklearn.svm import LinearSVC\n",
        "from sklearn.neural_network import MLPClassifier\n",
        "from sklearn.datasets import make_classification\n",
        "from sklearn.model_selection import train_test_split\n",
        "from sklearn.metrics import ConfusionMatrixDisplay, confusion_matrix,accuracy_score, classification_report\n",
        "from sklearn.cluster import KMeans\n",
        "\n",
        "from scipy.cluster.vq import kmeans,vq\n",
        "from scipy import ndimage\n",
        "from scipy.spatial import distance\n",
        "from skimage.feature import hog, local_binary_pattern\n",
        "from natsort import natsorted\n",
        "\n",
        "from string import ascii_uppercase"
      ]
    },
    {
      "cell_type": "markdown",
      "metadata": {
        "id": "4ZtggtA1hNL3"
      },
      "source": [
        "**Loading data from module data_augmentation**"
      ]
    },
    {
      "cell_type": "code",
      "execution_count": 4,
      "metadata": {},
      "outputs": [],
      "source": [
        "import import_ipynb\n",
        "\n",
        "# Import module data-augmentation\n",
        "from data_augmentation import x_train, x_test, y_train, y_test, x_train_norm, x_test_norm, x_train_gray, x_test_gray"
      ]
    },
    {
      "cell_type": "code",
      "execution_count": 23,
      "metadata": {},
      "outputs": [
        {
          "name": "stdout",
          "output_type": "stream",
          "text": [
            "From module data_augmentation imports following:\n",
            "\n",
            "x_train, x_test, y_train, y_test, x_train_norm, x_test_norm, x_train_gray, x_test_gray\n",
            "\n",
            "1. There are 88 images normalized for training and 22 for testing\n",
            "2. There are 88 labels for training and 22 for testing\n"
          ]
        }
      ],
      "source": [
        "print(f'From module data_augmentation imports following:')\n",
        "print(\"\")\n",
        "print(\"x_train, x_test, y_train, y_test, x_train_norm, x_test_norm, x_train_gray, x_test_gray\")\n",
        "print(\"\")\n",
        "print(f'1. There are {len(x_train_norm)} images normalized for training and {len(x_test_norm)} for testing')\n",
        "print(f'2. There are {len(y_train)} labels for training and {len(y_test)} for testing')"
      ]
    },
    {
      "cell_type": "markdown",
      "metadata": {
        "id": "kt-7fc4xpvT2"
      },
      "source": [
        " **SIFT METHOD**"
      ]
    },
    {
      "cell_type": "markdown",
      "metadata": {
        "id": "0_Paxa41vkcI"
      },
      "source": [
        "**Function to extract features**"
      ]
    },
    {
      "cell_type": "code",
      "execution_count": 13,
      "metadata": {
        "id": "krsw880qnueZ"
      },
      "outputs": [],
      "source": [
        "def apply_sift(list_image,n_kp):\n",
        "  one,two,thr=np.shape(list_image)\n",
        "  all_k_sift=[]#value of fetyre\n",
        "  all_f_sift=[]#np.empty(n_kp,128)#value of fetyre\n",
        "\n",
        "  for i in range(one):\n",
        "    image=list_image[i]\n",
        "    image =cv2.convertScaleAbs(image)\n",
        "    sift = cv2.SIFT.create(nfeatures = n_kp )\n",
        "    k_sift,f_sift= sift.detectAndCompute(image,None)\n",
        "    dim1,dim2=np.shape(f_sift)\n",
        "    if dim1 != n_kp:\n",
        "      for j in range(dim1-n_kp-1):\n",
        "        print(j)\n",
        "        f_sift=np.delete(f_sift, (n_kp+j), axis=0)\n",
        "\n",
        "\n",
        "    #print(np.shape(f_sift))\n",
        "    all_f_sift.append(f_sift)\n",
        "    all_k_sift.append(k_sift)\n",
        "   \n",
        "  return all_k_sift,all_f_sift"
      ]
    },
    {
      "cell_type": "code",
      "execution_count": 14,
      "metadata": {
        "colab": {
          "base_uri": "https://localhost:8080/"
        },
        "id": "oVFZXxuhoIpH",
        "outputId": "a09ffd87-aaf0-4d74-fbc3-69c070af28c7"
      },
      "outputs": [],
      "source": [
        "train_sift_kp, train_sift_f = apply_sift(x_train_norm,250)\n",
        "test_sift_kp, test_sift_f = apply_sift(x_test_norm,250)"
      ]
    },
    {
      "cell_type": "markdown",
      "metadata": {
        "id": "6zCSwRIknipm"
      },
      "source": [
        "**Caracteristicas de entrenamiento**"
      ]
    },
    {
      "cell_type": "code",
      "execution_count": 16,
      "metadata": {
        "colab": {
          "base_uri": "https://localhost:8080/"
        },
        "id": "TKZ0McI4rPX_",
        "outputId": "8a0fc710-5695-4351-f029-c272ac513627"
      },
      "outputs": [
        {
          "name": "stdout",
          "output_type": "stream",
          "text": [
            "There are 116 features & 128 values, for 88 descriptor to training\n"
          ]
        }
      ],
      "source": [
        "print(f'There are {train_sift_f[0].shape[0]} features & {train_sift_f[0].shape[1]} values, for {len(train_sift_f)} descriptor to training')"
      ]
    },
    {
      "cell_type": "markdown",
      "metadata": {
        "id": "Nufh4pJOvpZe"
      },
      "source": [
        "**Caracteristicas de validacion**"
      ]
    },
    {
      "cell_type": "code",
      "execution_count": 17,
      "metadata": {
        "colab": {
          "base_uri": "https://localhost:8080/"
        },
        "id": "meALPgI-vtCh",
        "outputId": "8a901ab6-ec46-4853-9953-2786e8589427"
      },
      "outputs": [
        {
          "name": "stdout",
          "output_type": "stream",
          "text": [
            "There are 198 features & 128 values, for 22 descriptors to testing\n"
          ]
        }
      ],
      "source": [
        "print(f'There are {test_sift_f[0].shape[0]} features & {test_sift_f[0].shape[1]} values, for {len(test_sift_f)} descriptors to testing')"
      ]
    },
    {
      "cell_type": "markdown",
      "metadata": {
        "id": "Gv8J4xtsQn4s"
      },
      "source": [
        "**Visualizing keypoints**"
      ]
    },
    {
      "cell_type": "code",
      "execution_count": 18,
      "metadata": {
        "id": "HYX_JFqDQsCA"
      },
      "outputs": [],
      "source": [
        "def keypointImage(image,images_gray):\n",
        "  sift = cv2.SIFT.create()\n",
        "  kp = sift.detect(images_gray,None)\n",
        "  output = cv2.drawKeypoints(image, kp, None)\n",
        "\n",
        "  return output"
      ]
    },
    {
      "cell_type": "code",
      "execution_count": 27,
      "metadata": {
        "colab": {
          "base_uri": "https://localhost:8080/"
        },
        "id": "VanHeA7jRcT7",
        "outputId": "4685672a-f479-478b-b819-d00cdd4c0ca3"
      },
      "outputs": [
        {
          "data": {
            "text/plain": [
              "<matplotlib.image.AxesImage at 0x7f474e6d1370>"
            ]
          },
          "execution_count": 27,
          "metadata": {},
          "output_type": "execute_result"
        },
        {
          "data": {
            "image/png": "[encoded data removed]",
            "text/plain": [
              "<Figure size 432x288 with 1 Axes>"
            ]
          },
          "metadata": {
            "needs_background": "light"
          },
          "output_type": "display_data"
        }
      ],
      "source": [
        "keypoint = keypointImage(x_train[80], x_train_gray[80])\n",
        "plt.imshow(keypoint)"
      ]
    },
    {
      "cell_type": "markdown",
      "metadata": {
        "id": "t2qXrnV1AZKq"
      },
      "source": [
        " **CREATING MODELS AND CLUSTER**\n",
        "\n",
        "1. Define a function that return true classes given by y_test.\n",
        "2. Create structure of the models (Multilayer Perceptron MLP, Support Vector Classifier (SVC)).\n",
        "3. Create clustering with Kmeans, this is going to be the input of our models."
      ]
    },
    {
      "cell_type": "markdown",
      "metadata": {
        "id": "CetV-BtWfdat"
      },
      "source": [
        "**True class function**"
      ]
    },
    {
      "cell_type": "code",
      "execution_count": 28,
      "metadata": {
        "id": "4lOoDP8WfiOM"
      },
      "outputs": [],
      "source": [
        "true_classes = []\n",
        "\n",
        "def trueClass():\n",
        "  for i in y_test:\n",
        "      if i==1:\n",
        "          true_classes.append(\"gilber\")\n",
        "      else:\n",
        "          true_classes.append(\"jhon\")\n",
        "  true = true_classes[:len(y_test)]\n",
        "  return true\n",
        "\n",
        "true_classes = trueClass()"
      ]
    },
    {
      "cell_type": "markdown",
      "metadata": {
        "id": "Jhm_2n6IOZC1"
      },
      "source": [
        "**Multi-Layer Perceptron (MLP)**"
      ]
    },
    {
      "cell_type": "code",
      "execution_count": 30,
      "metadata": {
        "id": "GkdO4-0Rm7oz"
      },
      "outputs": [],
      "source": [
        "mlp_classifier = MLPClassifier(hidden_layer_sizes=(1000,), activation = \"relu\", learning_rate=\"constant\", random_state=1, max_iter=1000, verbose = True)"
      ]
    },
    {
      "cell_type": "markdown",
      "metadata": {
        "id": "p83BNj-0Oit1"
      },
      "source": [
        "**Support Vector Classifier (SVC)**"
      ]
    },
    {
      "cell_type": "code",
      "execution_count": 31,
      "metadata": {
        "id": "yRY-NBzb_OIz"
      },
      "outputs": [],
      "source": [
        "svc_classifier = LinearSVC(dual=True, loss='squared_hinge', max_iter=80000, multi_class='ovr', penalty='l2')"
      ]
    },
    {
      "cell_type": "markdown",
      "metadata": {
        "id": "GInmqo5Uga3s"
      },
      "source": [
        "**Clustering con Kmeans**"
      ]
    },
    {
      "cell_type": "code",
      "execution_count": 32,
      "metadata": {
        "id": "2eVjSBvEoZ1X"
      },
      "outputs": [],
      "source": [
        "def kmeansModel(k, descriptor_list):\n",
        "  n=np.array(descriptor_list)\n",
        "  one=np.shape(n)\n",
        "\n",
        "  list_center=[]\n",
        "\n",
        "  for i in range(one[0]):\n",
        "    #kmeans = KMeans(n_clusters = k, n_init=30).fit(np.transpose(descriptor_list[posicion_img_neutral][:][:]))\n",
        "    kmeans = KMeans(n_clusters = k, n_init=30).fit(descriptor_list[i])\n",
        "    kmeans.predict(descriptor_list[i])\n",
        "    centers=kmeans.cluster_centers_\n",
        "    list_center.append(centers.flatten())\n",
        "  \n",
        "  return list_center"
      ]
    },
    {
      "cell_type": "code",
      "execution_count": 33,
      "metadata": {
        "colab": {
          "base_uri": "https://localhost:8080/"
        },
        "id": "ullSOrXTpgfB",
        "outputId": "193d66ab-a313-4ac2-a6f1-1b7ec90d066c"
      },
      "outputs": [
        {
          "name": "stderr",
          "output_type": "stream",
          "text": [
            "/tmp/ipykernel_22224/2064150906.py:2: VisibleDeprecationWarning: Creating an ndarray from ragged nested sequences (which is a list-or-tuple of lists-or-tuples-or ndarrays with different lengths or shapes) is deprecated. If you meant to do this, you must specify 'dtype=object' when creating the ndarray.\n",
            "  n=np.array(descriptor_list)\n",
            "/tmp/ipykernel_22224/2064150906.py:2: VisibleDeprecationWarning: Creating an ndarray from ragged nested sequences (which is a list-or-tuple of lists-or-tuples-or ndarrays with different lengths or shapes) is deprecated. If you meant to do this, you must specify 'dtype=object' when creating the ndarray.\n",
            "  n=np.array(descriptor_list)\n"
          ]
        }
      ],
      "source": [
        "w = 10\n",
        "\n",
        "feature_train_sift = kmeansModel(w,train_sift_f)\n",
        "feature_test_sift = kmeansModel(w,test_sift_f)"
      ]
    },
    {
      "cell_type": "markdown",
      "metadata": {
        "id": "wPzF7xBgOPXL"
      },
      "source": [
        "**IMPLEMENTATION OF THE MODELS MLP,SVC - SIFT**"
      ]
    },
    {
      "cell_type": "markdown",
      "metadata": {
        "id": "FKvwe7tzgdc6"
      },
      "source": [
        " **Training and validation MLP model**"
      ]
    },
    {
      "cell_type": "code",
      "execution_count": 34,
      "metadata": {
        "colab": {
          "base_uri": "https://localhost:8080/"
        },
        "id": "m0CRSllpgpEA",
        "outputId": "647e2180-0481-4eb7-8933-dad1325141e7"
      },
      "outputs": [
        {
          "data": {
            "text/plain": [
              "(1280,)"
            ]
          },
          "execution_count": 34,
          "metadata": {},
          "output_type": "execute_result"
        }
      ],
      "source": [
        "feature_train_sift[0].shape"
      ]
    },
    {
      "cell_type": "code",
      "execution_count": 35,
      "metadata": {
        "colab": {
          "base_uri": "https://localhost:8080/"
        },
        "id": "TosRcf2ke6Fi",
        "outputId": "7980e958-0912-4658-facc-2d5b04e7150e"
      },
      "outputs": [
        {
          "name": "stdout",
          "output_type": "stream",
          "text": [
            "Iteration 1, loss = 7.40310319\n",
            "Iteration 2, loss = 18.02246613\n",
            "Iteration 3, loss = 1.35327966\n",
            "Iteration 4, loss = 18.02246658\n",
            "Iteration 5, loss = 18.02246680\n",
            "Iteration 6, loss = 6.66589870\n",
            "Iteration 7, loss = 16.91977476\n",
            "Iteration 8, loss = 17.92082797\n",
            "Iteration 9, loss = 17.14122839\n",
            "Iteration 10, loss = 3.07708964\n",
            "Iteration 11, loss = 2.64200947\n",
            "Iteration 12, loss = 15.51147322\n",
            "Iteration 13, loss = 15.42836609\n",
            "Iteration 14, loss = 6.54049128\n",
            "Training loss did not improve more than tol=0.000100 for 10 consecutive epochs. Stopping.\n"
          ]
        }
      ],
      "source": [
        "mlp_model_sift = mlp_classifier.fit(feature_train_sift, np.array(y_train.flatten()))"
      ]
    },
    {
      "cell_type": "markdown",
      "metadata": {
        "id": "kWpbHp2GOwSV"
      },
      "source": [
        "**Prediction of the model**"
      ]
    },
    {
      "cell_type": "code",
      "execution_count": 36,
      "metadata": {
        "id": "kuA5GsCyONyy"
      },
      "outputs": [],
      "source": [
        "sift_mlp_pred = mlp_model_sift.predict(feature_test_sift)"
      ]
    },
    {
      "cell_type": "code",
      "execution_count": 37,
      "metadata": {
        "colab": {
          "base_uri": "https://localhost:8080/"
        },
        "id": "fAYb1BpYOzn2",
        "outputId": "cbdd32da-5f0f-4d48-ca03-71ae0cff9002"
      },
      "outputs": [
        {
          "name": "stdout",
          "output_type": "stream",
          "text": [
            "True labels:\n",
            "\n",
            "['gilber', 'gilber', 'gilber', 'jhon', 'jhon', 'gilber', 'jhon', 'jhon', 'jhon', 'jhon', 'gilber', 'jhon', 'gilber', 'jhon', 'jhon', 'gilber', 'gilber', 'jhon', 'gilber', 'jhon', 'gilber', 'gilber']\n",
            "\n",
            "Predicted labels MLPxSIFT:\n",
            "\n",
            "['jhon', 'jhon', 'gilber', 'jhon', 'jhon', 'gilber', 'jhon', 'jhon', 'jhon', 'jhon', 'jhon', 'jhon', 'jhon', 'jhon', 'jhon', 'gilber', 'gilber', 'jhon', 'gilber', 'jhon', 'jhon', 'gilber']\n"
          ]
        }
      ],
      "source": [
        "predict_sift_mlp = []\n",
        "\n",
        "for i in sift_mlp_pred:\n",
        "    if i==1:\n",
        "        predict_sift_mlp.append(\"gilber\")\n",
        "    else:\n",
        "        predict_sift_mlp.append(\"jhon\")\n",
        "\n",
        "print(\"True labels:\")\n",
        "print(\"\")\n",
        "print(true_classes)\n",
        "print(\"\")\n",
        "print(\"Predicted labels MLPxSIFT:\")\n",
        "print(\"\")\n",
        "print(predict_sift_mlp)"
      ]
    },
    {
      "cell_type": "markdown",
      "metadata": {
        "id": "k4b8PJVj8vpg"
      },
      "source": [
        "**Accuracy**"
      ]
    },
    {
      "cell_type": "code",
      "execution_count": 38,
      "metadata": {
        "colab": {
          "base_uri": "https://localhost:8080/"
        },
        "id": "gsdSJeKP8w6r",
        "outputId": "5db6ee63-8b20-4ff2-a076-c51d2b158ce4"
      },
      "outputs": [
        {
          "name": "stdout",
          "output_type": "stream",
          "text": [
            "0.7727272727272727\n"
          ]
        }
      ],
      "source": [
        "accuracy_sift_mlp = accuracy_score(true_classes, predict_sift_mlp)\n",
        "print(accuracy_sift_mlp)"
      ]
    },
    {
      "cell_type": "markdown",
      "metadata": {
        "id": "XbbKXX9nCFfm"
      },
      "source": [
        " **Training and validation SVC model**"
      ]
    },
    {
      "cell_type": "code",
      "execution_count": 39,
      "metadata": {
        "id": "_dkStpn2CFfn"
      },
      "outputs": [],
      "source": [
        "svc_model_sift = svc_classifier.fit(feature_train_sift, np.array(y_train.flatten()))"
      ]
    },
    {
      "cell_type": "markdown",
      "metadata": {
        "id": "fnZm1SGMCFfp"
      },
      "source": [
        "**Prediciton of the model SVCxSIFT**"
      ]
    },
    {
      "cell_type": "code",
      "execution_count": 40,
      "metadata": {
        "id": "vLDMIsz_OYXY"
      },
      "outputs": [],
      "source": [
        "sift_svc_pred = svc_model_sift.predict(feature_test_sift)"
      ]
    },
    {
      "cell_type": "code",
      "execution_count": 41,
      "metadata": {
        "colab": {
          "base_uri": "https://localhost:8080/"
        },
        "id": "z5CEgy4uCFfq",
        "outputId": "f7d0217e-551f-40ed-fd10-08ce92cdaf02"
      },
      "outputs": [
        {
          "name": "stdout",
          "output_type": "stream",
          "text": [
            "True classes\n",
            "\n",
            "['gilber', 'gilber', 'gilber', 'jhon', 'jhon', 'gilber', 'jhon', 'gilber', 'jhon', 'jhon', 'gilber', 'gilber', 'gilber', 'jhon', 'jhon', 'gilber', 'gilber', 'jhon', 'gilber', 'jhon', 'gilber', 'gilber']\n",
            "\n",
            "Predicted classes - SVCxSIFT\n",
            "\n",
            "['gilber', 'gilber', 'gilber', 'jhon', 'jhon', 'gilber', 'jhon', 'jhon', 'jhon', 'jhon', 'gilber', 'jhon', 'gilber', 'jhon', 'jhon', 'gilber', 'gilber', 'jhon', 'gilber', 'jhon', 'gilber', 'gilber']\n"
          ]
        }
      ],
      "source": [
        "predict_sift_svc = []\n",
        "\n",
        "for i in sift_svc_pred:\n",
        "    if i == 1:\n",
        "        predict_sift_svc.append(\"gilber\")\n",
        "    else:\n",
        "        predict_sift_svc.append(\"jhon\")\n",
        "\n",
        "print(\"True classes\")\n",
        "print(\"\")\n",
        "print(predict_sift_svc)\n",
        "print(\"\")\n",
        "print(\"Predicted classes - SVCxSIFT\")\n",
        "print(\"\")\n",
        "print(true_classes)"
      ]
    },
    {
      "cell_type": "markdown",
      "metadata": {
        "id": "j7dJZz8VCFfq"
      },
      "source": [
        "**Accuracy model SVCxSIFT**"
      ]
    },
    {
      "cell_type": "code",
      "execution_count": 42,
      "metadata": {
        "colab": {
          "base_uri": "https://localhost:8080/"
        },
        "id": "AvH1CkO_CFfr",
        "outputId": "6c6fbb50-a960-4ee2-94d1-bdc6305f72fe"
      },
      "outputs": [
        {
          "name": "stdout",
          "output_type": "stream",
          "text": [
            "0.9090909090909091\n"
          ]
        }
      ],
      "source": [
        "accuracy_sift_svc = accuracy_score(true_classes, predict_sift_svc)\n",
        "print(accuracy_sift_svc)"
      ]
    },
    {
      "cell_type": "markdown",
      "metadata": {
        "id": "Q_hsS-fdFF6V"
      },
      "source": [
        "**CONFUSION MATRIX OF THE MODELS**"
      ]
    },
    {
      "cell_type": "markdown",
      "metadata": {},
      "source": [
        "**Confusion matrix model MLP x SIFT**"
      ]
    },
    {
      "cell_type": "code",
      "execution_count": 43,
      "metadata": {
        "colab": {
          "base_uri": "https://localhost:8080/"
        },
        "id": "IidA4sFAVo2n",
        "outputId": "e892a3e2-89f8-49b9-8c4c-3a795d7fba34"
      },
      "outputs": [
        {
          "data": {
            "text/plain": [
              "array([[11,  0],\n",
              "       [ 5,  6]])"
            ]
          },
          "execution_count": 43,
          "metadata": {},
          "output_type": "execute_result"
        }
      ],
      "source": [
        "confm_mlp_sift = confusion_matrix(y_test.flatten(), sift_mlp_pred)\n",
        "confm_mlp_sift"
      ]
    },
    {
      "cell_type": "code",
      "execution_count": 52,
      "metadata": {
        "colab": {
          "base_uri": "https://localhost:8080/"
        },
        "id": "-k4uuWa1Ut7O",
        "outputId": "b3c8048f-c564-42fd-c114-1ab76455f9c6"
      },
      "outputs": [
        {
          "data": {
            "image/png": "[encoded data removed]",
            "text/plain": [
              "<Figure size 432x288 with 2 Axes>"
            ]
          },
          "metadata": {
            "needs_background": "light"
          },
          "output_type": "display_data"
        }
      ],
      "source": [
        "confm_mlp_sift = confusion_matrix(y_test.flatten(), sift_mlp_pred)\n",
        "columna_sift_mlp = ['Clase %s'%(i) for i in list(ascii_uppercase)[0:len(np.unique(sift_mlp_pred))]]\n",
        "df_cm_sift_mlp = pd.DataFrame(confm_mlp_sift, index= columna_sift_mlp, columns = columna_sift_mlp)\n",
        "\n",
        "graph_cm_sift_mlp = sns.heatmap(df_cm_sift_mlp, cmap=plt.cm.Blues, annot = True)\n",
        "\n",
        "plt.title('CONFUSION MATRIX - SIFT WITH MLP')\n",
        "plt.xlabel('True Labels')\n",
        "plt.ylabel('Predicted Labels')\n",
        "plt.show()\n"
      ]
    },
    {
      "cell_type": "markdown",
      "metadata": {
        "id": "CAoIhxY9FLNb"
      },
      "source": [
        "**Confusion matrix model SVC x SIFT**"
      ]
    },
    {
      "cell_type": "code",
      "execution_count": 53,
      "metadata": {
        "colab": {
          "base_uri": "https://localhost:8080/"
        },
        "id": "VH54z2mrLnxU",
        "outputId": "31ad12bf-b106-4ebc-b8ef-63d2eb27cabd"
      },
      "outputs": [
        {
          "data": {
            "image/png": "[encoded data removed]",
            "text/plain": [
              "<Figure size 432x288 with 2 Axes>"
            ]
          },
          "metadata": {
            "needs_background": "light"
          },
          "output_type": "display_data"
        }
      ],
      "source": [
        "confm_svc_sift = confusion_matrix(y_test.flatten(), sift_svc_pred)\n",
        "columna_sift_svc = ['Clase %s'%(i) for i in list(ascii_uppercase)[0:len(np.unique(sift_svc_pred))]]\n",
        "df_cm_sift_svc = pd.DataFrame(confm_svc_sift, index= columna_sift_svc, columns = columna_sift_svc)\n",
        "\n",
        "graph_cm_sift_svc = sns.heatmap(df_cm_sift_svc, cmap=plt.cm.Blues, annot = True)\n",
        "\n",
        "plt.title('CONFUSION MATRIX - SIFT WITH SVC')\n",
        "plt.xlabel('True Labels')\n",
        "plt.ylabel('Predicted Labels')\n",
        "plt.show()"
      ]
    }
  ],
  "metadata": {
    "colab": {
      "collapsed_sections": [
        "SBpVsdBRcpF_",
        "vUc5XEFKbi1Z",
        "R0ua1bMqGE8r",
        "b5FA_6h8tADr",
        "Vhvrn31nA3wr",
        "iheat34KJVYg",
        "xDh5s6K8A-zw",
        "kt-7fc4xpvT2",
        "jwRaHYjwp0FB",
        "k_mkig5ip2Ni",
        "t2qXrnV1AZKq",
        "GInmqo5Uga3s",
        "XbbKXX9nCFfm",
        "PfiIqsHMbwAs",
        "cDm_GMs-puXx",
        "Jk8-PRLMp20s",
        "j9Ne6I4ap8qd",
        "6Og4K7sdqFlX",
        "9hHYWBBZOTTR",
        "TZYlhSmzRK1C",
        "xaJ9uObf-z2n",
        "8kjizDrNxYRD",
        "Q_hsS-fdFF6V",
        "CAoIhxY9FLNb",
        "lXCwdVcIJPA4",
        "pw27WOQ6JTpM",
        "L_pWpizUMaJE",
        "WBbqyteoMgrP"
      ],
      "name": "FaceDetection_Laboratorio1.ipynb",
      "provenance": []
    },
    "interpreter": {
      "hash": "916dbcbb3f70747c44a77c7bcd40155683ae19c65e1c03b4aa3499c5328201f1"
    },
    "kernelspec": {
      "display_name": "opencv_4_4",
      "language": "python",
      "name": "python3"
    },
    "language_info": {
      "codemirror_mode": {
        "name": "ipython",
        "version": 3
      },
      "file_extension": ".py",
      "mimetype": "text/x-python",
      "name": "python",
      "nbconvert_exporter": "python",
      "pygments_lexer": "ipython3",
      "version": "3.8.10"
    }
  },
  "nbformat": 4,
  "nbformat_minor": 0
}
